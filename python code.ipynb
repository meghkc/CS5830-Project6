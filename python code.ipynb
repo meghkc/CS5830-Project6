{
 "cells": [
  {
   "cell_type": "code",
   "execution_count": null,
   "metadata": {},
   "outputs": [],
   "source": [
    "# Packages\n",
    "import pandas as pd\n",
    "import numpy as np\n",
    "import seaborn as sns\n",
    "import matplotlib.pyplot as plt\n",
    "from sklearn.model_selection import GridSearchCV, train_test_split\n",
    "from sklearn.neighbors import NearestNeighbors\n",
    "from sklearn.metrics import precision_score, recall_score, f1_score\n",
    "from itertools import combinations\n",
    "from statistics import mean\n",
    "from sklearn.neighbors._base import _get_weights\n",
    "from sklearn.utils.extmath import weighted_mode\n",
    "from sklearn.naive_bayes import GaussianNB"
   ]
  },
  {
   "cell_type": "code",
   "execution_count": null,
   "metadata": {},
   "outputs": [],
   "source": [
    "import os\n",
    "os.getcwd()\n",
    "#%cd \"C:\\\\Users\\\\graduate\\\\OneDrive - USU\\\\Desktop\\p6\""
   ]
  },
  {
   "cell_type": "code",
   "execution_count": null,
   "metadata": {},
   "outputs": [],
   "source": [
    "# Import Dataset\n",
    "df = pd.read_csv('RRCA_baseflow.csv')\n",
    "df['S_Date']=df['Date']-693963\n",
    "df.head()"
   ]
  },
  {
   "cell_type": "code",
   "execution_count": null,
   "metadata": {},
   "outputs": [],
   "source": [
    "# Fix terribly formated date\n",
    "import datetime\n",
    "df['dayoyear']=df['Date']%365.2422\n",
    "df['year']=df['Date']/365.2422\n",
    "df.year=df.year.astype(int)\n",
    "df['month']=(df['dayoyear']+30.43685/2)/30.43685\n",
    "df.month=df.month.astype(int)\n",
    "df.head()\n"
   ]
  },
  {
   "cell_type": "code",
   "execution_count": null,
   "metadata": {},
   "outputs": [],
   "source": [
    "#see unique values in year column\n",
    "df1=df['year'].unique()\n",
    "print(sorted(df1))"
   ]
  },
  {
   "cell_type": "code",
   "execution_count": null,
   "metadata": {},
   "outputs": [],
   "source": [
    "# Hot encode segmentid\n",
    "#convert categorical variable into dummy/ indicator variable\n",
    "seg_hot = pd.get_dummies(df.Segment_id, prefix='s')\n",
    "df = df.join(seg_hot)\n",
    "#df.head()"
   ]
  },
  {
   "cell_type": "code",
   "execution_count": null,
   "metadata": {},
   "outputs": [],
   "source": [
    "# Years before 1950 had fewer samples and significantly higher Observed\n",
    "odf=df\n",
    "df=df[df.year>1950]"
   ]
  },
  {
   "cell_type": "code",
   "execution_count": null,
   "metadata": {},
   "outputs": [],
   "source": [
    "# Months ordered because whilst they are correlated by time, it isn't linear. More like a sine wave\n",
    "df['adjmonth']=df.month.apply(lambda x:[7,6,8,9,5,10,11,4,0,1,3,2].index(x))\n",
    "df.head()"
   ]
  },
  {
   "cell_type": "code",
   "execution_count": null,
   "metadata": {},
   "outputs": [],
   "source": [
    "sns.barplot(x=\"month\", y=\"Observed\", data=df)"
   ]
  },
  {
   "cell_type": "code",
   "execution_count": null,
   "metadata": {},
   "outputs": [],
   "source": [
    "for seg in df.Segment_id.unique():\n",
    "  dfa=df[df['Segment_id']==seg]\n",
    "  fig, axs = plt.subplots(1, 3, sharey=True)\n",
    "  dfa.plot(kind='scatter', x='Evapotranspiration', y='Observed', ax=axs[0], figsize=(16, 8),title = seg)\n",
    "  dfa.plot(kind='scatter', x='Precipitation', y='Observed', ax=axs[1],title = seg)\n",
    "  dfa.plot(kind='scatter', x='Irrigation_pumping', y='Observed', ax=axs[2],title = seg)"
   ]
  },
  {
   "cell_type": "code",
   "execution_count": null,
   "metadata": {},
   "outputs": [],
   "source": [
    "#location scatter plot\n",
    "df.plot(kind='scatter', x='x', y='y')"
   ]
  },
  {
   "cell_type": "code",
   "execution_count": null,
   "metadata": {},
   "outputs": [],
   "source": [
    "df[df['Irrigation_pumping']<0].plot(kind='scatter', x='year', y='Observed')"
   ]
  },
  {
   "cell_type": "code",
   "execution_count": null,
   "metadata": {},
   "outputs": [],
   "source": [
    "x=df.year.unique()\n",
    "x.sort()\n",
    "x"
   ]
  },
  {
   "cell_type": "code",
   "execution_count": null,
   "metadata": {},
   "outputs": [],
   "source": [
    "#observed baseflow distinction between whole dataset and year after 1950\n",
    "sns.lineplot(x=\"year\", y=\"Observed\", data=odf)\n"
   ]
  },
  {
   "cell_type": "code",
   "execution_count": null,
   "metadata": {},
   "outputs": [],
   "source": [
    "sns.lineplot(x=\"year\", y=\"Observed\", data=df)"
   ]
  },
  {
   "cell_type": "code",
   "execution_count": null,
   "metadata": {},
   "outputs": [],
   "source": [
    "uniquesegments=df.Segment_id.unique()\n",
    "uniquesegments.sort()\n",
    "uniquesegments\n"
   ]
  },
  {
   "cell_type": "code",
   "execution_count": null,
   "metadata": {},
   "outputs": [],
   "source": [
    "#see how flows are distributed by segment ID\n",
    "sns.lineplot(x=\"Segment_id\", y=\"Observed\", data=df)"
   ]
  },
  {
   "cell_type": "code",
   "execution_count": null,
   "metadata": {},
   "outputs": [],
   "source": [
    "#lets try for segment ID 51, which is seen to be minimum flow\n",
    "segments178 = df[df['Segment_id'] == 178]\n",
    "display(segments178.head())\n",
    "# each segment is jsut a part where the station is located\n",
    "segments178['y'].unique()"
   ]
  },
  {
   "cell_type": "code",
   "execution_count": null,
   "metadata": {},
   "outputs": [],
   "source": [
    "## Graphs for Segment 96\n",
    "fig, axs = plt.subplots(1,3, sharey=True)\n",
    "segments178.plot(kind='scatter', x='Evapotranspiration', y='Observed', ax=axs[0], figsize=(16, 8), title = 178)\n",
    "segments178.plot(kind='scatter', x='Precipitation', y='Observed', ax=axs[1], title = 178)\n",
    "segments178.plot(kind='scatter', x='Irrigation_pumping', y='Observed', ax=axs[2], title = 178)"
   ]
  },
  {
   "attachments": {},
   "cell_type": "markdown",
   "metadata": {},
   "source": [
    "### apply coefficients from linear regression model"
   ]
  },
  {
   "cell_type": "code",
   "execution_count": null,
   "metadata": {},
   "outputs": [],
   "source": [
    "#do linear regression for the selected segment\n",
    "# create X and y\n",
    "feature_cols = ['Precipitation'] \n",
    "X = segments178[feature_cols]\n",
    "y = segments178.Observed\n",
    "\n",
    "# follow the usual sklearn pattern: import, instantiate, fit\n",
    "from sklearn.linear_model import LinearRegression\n",
    "lm = LinearRegression()\n",
    "lm.fit(X, y)\n",
    "\n",
    "# print coefficients\n",
    "print(list(zip(feature_cols, lm.coef_)))"
   ]
  },
  {
   "cell_type": "code",
   "execution_count": null,
   "metadata": {},
   "outputs": [],
   "source": [
    "#do linear regression for the selected segment\n",
    "# create X and y\n",
    "feature_cols = ['Evapotranspiration', 'Irrigation_pumping'] \n",
    "X = segments178[feature_cols]\n",
    "y = segments178.Observed\n",
    "\n",
    "# follow the usual sklearn pattern: import, instantiate, fit\n",
    "from sklearn.linear_model import LinearRegression\n",
    "lm = LinearRegression()\n",
    "lm.fit(X, y)\n",
    "\n",
    "# print coefficients\n",
    "print(list(zip(feature_cols, lm.coef_)))"
   ]
  },
  {
   "cell_type": "code",
   "execution_count": null,
   "metadata": {},
   "outputs": [],
   "source": [
    "#do linear regression for the selected segment\n",
    "# create X and y\n",
    "feature_cols = ['Evapotranspiration', 'Precipitation','Irrigation_pumping'] \n",
    "X = segments178[feature_cols]\n",
    "y = segments178.Observed\n",
    "\n",
    "# follow the usual sklearn pattern: import, instantiate, fit\n",
    "from sklearn.linear_model import LinearRegression\n",
    "lm = LinearRegression()\n",
    "lm.fit(X, y)\n",
    "\n",
    "# print coefficients\n",
    "print(list(zip(feature_cols, lm.coef_)))"
   ]
  },
  {
   "attachments": {},
   "cell_type": "markdown",
   "metadata": {},
   "source": [
    "### see the effect of each independent variavle in predicting observed baseflow for the selected segment"
   ]
  },
  {
   "cell_type": "code",
   "execution_count": null,
   "metadata": {},
   "outputs": [],
   "source": [
    "import statsmodels.formula.api as smf\n",
    "# create a fitted model with all three features\n",
    "lm = smf.ols(formula='Observed ~ Irrigation_pumping', data=segments178).fit()\n",
    "\n",
    "# print the coefficients\n",
    "display(lm.params)\n",
    "\n",
    "# print a summary of \n",
    "lm.summary()"
   ]
  },
  {
   "cell_type": "code",
   "execution_count": null,
   "metadata": {},
   "outputs": [],
   "source": [
    "import statsmodels.formula.api as smf\n",
    "# create a fitted model with all three features\n",
    "lm = smf.ols(formula='Observed ~ Evapotranspiration + Irrigation_pumping', data=segments178).fit()\n",
    "\n",
    "# print the coefficients\n",
    "display(lm.params)\n",
    "\n",
    "# print a summary of \n",
    "lm.summary()"
   ]
  },
  {
   "cell_type": "code",
   "execution_count": null,
   "metadata": {},
   "outputs": [],
   "source": [
    "import statsmodels.formula.api as smf\n",
    "# create a fitted model with all three features\n",
    "lm = smf.ols(formula='Observed ~ Evapotranspiration + Irrigation_pumping + Precipitation', data=segments178).fit()\n",
    "\n",
    "# print the coefficients\n",
    "display(lm.params)\n",
    "\n",
    "# print a summary of \n",
    "lm.summary()"
   ]
  },
  {
   "cell_type": "code",
   "execution_count": null,
   "metadata": {},
   "outputs": [],
   "source": []
  }
 ],
 "metadata": {
  "kernelspec": {
   "display_name": "Python 3",
   "language": "python",
   "name": "python3"
  },
  "language_info": {
   "codemirror_mode": {
    "name": "ipython",
    "version": 3
   },
   "file_extension": ".py",
   "mimetype": "text/x-python",
   "name": "python",
   "nbconvert_exporter": "python",
   "pygments_lexer": "ipython3",
   "version": "3.10.4"
  },
  "orig_nbformat": 4
 },
 "nbformat": 4,
 "nbformat_minor": 2
}
