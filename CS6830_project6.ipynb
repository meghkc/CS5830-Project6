{
 "cells": [
  {
   "cell_type": "code",
   "execution_count": null,
   "metadata": {},
   "outputs": [],
   "source": [
    "import pandas as pd\n",
    "from matplotlib import pyplot as plt\n",
    "import seaborn as sns\n",
    "from scipy import stats"
   ]
  },
  {
   "cell_type": "code",
   "execution_count": null,
   "metadata": {},
   "outputs": [],
   "source": [
    "hydro_data = pd.read_csv('RRCA_baseflow.csv')\n",
    "hydro_data.columns"
   ]
  },
  {
   "cell_type": "code",
   "execution_count": null,
   "metadata": {},
   "outputs": [],
   "source": [
    "hydro_data.head()"
   ]
  },
  {
   "cell_type": "code",
   "execution_count": null,
   "metadata": {},
   "outputs": [],
   "source": [
    "hydro_data.info()"
   ]
  },
  {
   "cell_type": "code",
   "execution_count": null,
   "metadata": {},
   "outputs": [],
   "source": [
    "hydro_data = hydro_data.dropna()"
   ]
  },
  {
   "cell_type": "code",
   "execution_count": null,
   "metadata": {},
   "outputs": [],
   "source": [
    "from datetime import datetime, timedelta, date\n",
    "\n",
    "hydro_data['Date'] = hydro_data['Date'] - 693963\n",
    "start_date = date(1900, 1, 1)\n",
    "hydro_data['Date'] = hydro_data['Date'].apply(lambda x : (start_date + timedelta(days=x)).month)\n",
    "#hydro_data.head()"
   ]
  },
  {
   "cell_type": "code",
   "execution_count": null,
   "metadata": {},
   "outputs": [],
   "source": [
    "from sklearn.preprocessing import StandardScaler\n",
    "cols = ['Evapotranspiration', 'Precipitation', 'Irrigation_pumping', 'Observed']\n",
    "scaler = StandardScaler()\n",
    "hydro_data[cols] = scaler.fit_transform(hydro_data[cols])"
   ]
  },
  {
   "cell_type": "code",
   "execution_count": null,
   "metadata": {},
   "outputs": [],
   "source": [
    "hydro_data.head()"
   ]
  },
  {
   "cell_type": "code",
   "execution_count": null,
   "metadata": {},
   "outputs": [],
   "source": [
    "#plot months chart\n",
    "month_flow = hydro_data.groupby('Date').agg({'Observed':'mean'}).reset_index().rename(columns={'Observed':'mo_BF_mean' })\n",
    "sns.barplot(x='Date',y='mo_BF_mean',data=month_flow)"
   ]
  },
  {
   "cell_type": "code",
   "execution_count": null,
   "metadata": {},
   "outputs": [],
   "source": [
    "fig, axs = plt.subplots(1, 3, sharey=True)\n",
    "hydro_data.plot(kind='scatter', x='Evapotranspiration', y='Observed', ax=axs[0], figsize=(16, 8))\n",
    "hydro_data.plot(kind='scatter', x='Precipitation', y='Observed', ax=axs[1])\n",
    "hydro_data.plot(kind='scatter', x='Irrigation_pumping', y='Observed', ax=axs[2])"
   ]
  },
  {
   "cell_type": "code",
   "execution_count": null,
   "metadata": {},
   "outputs": [],
   "source": [
    "for seg in hydro_data.Segment_id.unique():\n",
    "  df=hydro_data[hydro_data['Segment_id']==seg]\n",
    "  fig, axs = plt.subplots(1, 3, sharey=True)\n",
    "  df.plot(kind='scatter', x='Evapotranspiration', y='Observed', ax=axs[0], figsize=(16, 8),title = seg)\n",
    "  df.plot(kind='scatter', x='Precipitation', y='Observed', ax=axs[1],title = seg)\n",
    "  df.plot(kind='scatter', x='Irrigation_pumping', y='Observed', ax=axs[2],title = seg)"
   ]
  },
  {
   "cell_type": "code",
   "execution_count": null,
   "metadata": {},
   "outputs": [],
   "source": [
    "means = hydro_data.groupby('Date').agg({'Evapotranspiration':'mean', 'Precipitation':'mean', 'Irrigation_pumping':'mean', 'Observed':'mean'}).reset_index().rename(columns={'Evapotranspiration':'Evapotranspiration_mean','Precipitation' : 'Precipitation_mean','Irrigation_pumping':'Irrigation_pumping_mean','Observed':'BF_mean' })\n",
    "means.head()"
   ]
  },
  {
   "cell_type": "code",
   "execution_count": null,
   "metadata": {},
   "outputs": [],
   "source": [
    "import matplotlib.pyplot as plt\n",
    "plt.plot(means.Date, means.Evapotranspiration_mean, color='r', label='Evapotranspiration')\n",
    "plt.plot(means.Date, means.Precipitation_mean, color='g', label='Precipitation')\n",
    "plt.plot(means.Date, means.Irrigation_pumping_mean, color='y', label='Irrigation_pumping')\n",
    "plt.plot(means.Date, means.BF_mean, color='b', label='BF')\n",
    "plt.xlabel(\"Month\")\n",
    "plt.ylabel(\"Values\")\n",
    "plt.title(\"Values over months\")\n",
    "plt.legend()\n",
    "plt.show()"
   ]
  },
  {
   "cell_type": "code",
   "execution_count": null,
   "metadata": {},
   "outputs": [],
   "source": [
    "hydro_data144 = hydro_data[hydro_data.Segment_id == 144]"
   ]
  },
  {
   "cell_type": "code",
   "execution_count": null,
   "metadata": {},
   "outputs": [],
   "source": [
    "hydro_data144"
   ]
  },
  {
   "cell_type": "code",
   "execution_count": null,
   "metadata": {},
   "outputs": [],
   "source": [
    "\n",
    "display(stats.pearsonr(hydro_data144.Observed, hydro_data144.Evapotranspiration))\n",
    "display(stats.pearsonr(hydro_data144.Observed, hydro_data144.Precipitation))\n",
    "display(stats.pearsonr(hydro_data144.Observed, hydro_data144.Irrigation_pumping))"
   ]
  },
  {
   "cell_type": "code",
   "execution_count": null,
   "metadata": {},
   "outputs": [],
   "source": [
    "means_seg = hydro_data.groupby('Segment_id').agg({'Evapotranspiration':'mean', 'Precipitation':'mean', 'Irrigation_pumping':'mean', 'Observed':'mean'}).reset_index().rename(columns={'Evapotranspiration':'Evapotranspiration_mean','Precipitation' : 'Precipitation_mean','Irrigation_pumping':'Irrigation_pumping_mean','Observed':'BF_mean' })\n",
    "\n",
    "means_seg.head()"
   ]
  },
  {
   "cell_type": "code",
   "execution_count": null,
   "metadata": {},
   "outputs": [],
   "source": [
    "#sns.scatterplot(data=hydro_data, x='Evapotranspiration', y='Observed')\n",
    "sns.regplot(hydro_data.Evapotranspiration, hydro_data.Observed, ci=None, marker='o', color='red',\n",
    "           scatter_kws={'s':10}, line_kws={'color':'blue'})\n",
    "\n"
   ]
  },
  {
   "cell_type": "code",
   "execution_count": null,
   "metadata": {},
   "outputs": [],
   "source": [
    "sns.regplot(hydro_data144.Precipitation, hydro_data144.Observed, ci=None, marker='o', color='red',\n",
    "           scatter_kws={'s':10}, line_kws={'color':'blue'})"
   ]
  },
  {
   "cell_type": "code",
   "execution_count": null,
   "metadata": {},
   "outputs": [],
   "source": [
    "sns.regplot(hydro_data144.Irrigation_pumping, hydro_data144.Observed, marker='o', color='red',\n",
    "           scatter_kws={'s':10}, line_kws={'color':'blue'})"
   ]
  },
  {
   "cell_type": "code",
   "execution_count": null,
   "metadata": {},
   "outputs": [],
   "source": [
    "sns.regplot(hydro_data144.Evapotranspiration, hydro_data144.Observed, marker='o', color='red',\n",
    "           scatter_kws={'s':10}, line_kws={'color':'blue'})"
   ]
  },
  {
   "cell_type": "code",
   "execution_count": null,
   "metadata": {},
   "outputs": [],
   "source": [
    "sns.regplot(hydro_data144.Precipitation, hydro_data144.Observed, marker='o', color='red',\n",
    "           scatter_kws={'s':10}, line_kws={'color':'blue'})"
   ]
  },
  {
   "cell_type": "code",
   "execution_count": null,
   "metadata": {},
   "outputs": [],
   "source": [
    "plt.figure(figsize=(16,8))\n",
    "ax = sns.barplot(data=means_seg, x='Segment_id', y='BF_mean')"
   ]
  },
  {
   "cell_type": "code",
   "execution_count": null,
   "metadata": {},
   "outputs": [],
   "source": [
    "means_seg = means_seg.sort_values(by ='BF_mean', ascending=False).reset_index()"
   ]
  },
  {
   "cell_type": "code",
   "execution_count": null,
   "metadata": {},
   "outputs": [],
   "source": [
    "means_seg = means_seg[means_seg['BF_mean'] >= means_seg['BF_mean'].mean()]"
   ]
  },
  {
   "cell_type": "code",
   "execution_count": null,
   "metadata": {
    "scrolled": true
   },
   "outputs": [],
   "source": [
    "means_seg"
   ]
  },
  {
   "cell_type": "code",
   "execution_count": null,
   "metadata": {},
   "outputs": [],
   "source": [
    "# hydro_data = hydro_data[hydro_data['Segment_id'].isin(means_seg['Segment_id'].tolist())]"
   ]
  },
  {
   "cell_type": "code",
   "execution_count": null,
   "metadata": {},
   "outputs": [],
   "source": [
    "seg_hot = pd.get_dummies(hydro_data.Segment_id, prefix='s')\n",
    "hydro_data = hydro_data.join(seg_hot)\n",
    "seg_hot1 = pd.get_dummies(hydro_data.Date, prefix='d')\n",
    "hydro_data = hydro_data.join(seg_hot1)"
   ]
  },
  {
   "cell_type": "code",
   "execution_count": null,
   "metadata": {},
   "outputs": [],
   "source": [
    "# from sklearn.preprocessing import StandardScaler\n",
    "# cols = ['Evapotranspiration', 'Precipitation', 'Irrigation_pumping', 'Observed']\n",
    "# scaler = StandardScaler()\n",
    "# hydro_data[cols] = scaler.fit_transform(hydro_data[cols])"
   ]
  },
  {
   "cell_type": "code",
   "execution_count": null,
   "metadata": {},
   "outputs": [],
   "source": [
    "hydro_data.drop(['Date','Segment_id'],axis=1, inplace=True)\n",
    "hydro_data.head()"
   ]
  },
  {
   "cell_type": "code",
   "execution_count": null,
   "metadata": {},
   "outputs": [],
   "source": [
    "hydro_data.columns"
   ]
  },
  {
   "cell_type": "code",
   "execution_count": null,
   "metadata": {},
   "outputs": [],
   "source": [
    "import statsmodels.formula.api as smf\n",
    "# create a fitted model with all three features\n",
    "lm = smf.ols(formula='Observed ~ Irrigation_pumping + Evapotranspiration + Precipitation', data=hydro_data).fit()\n",
    "\n",
    "# print the coefficients\n",
    "display(lm.params)\n",
    "\n",
    "# print a summary of \n",
    "lm.summary()\n",
    "#lm.pvalues"
   ]
  },
  {
   "cell_type": "code",
   "execution_count": null,
   "metadata": {},
   "outputs": [],
   "source": [
    "import statsmodels.formula.api as smf\n",
    "# create a fitted model with all three features\n",
    "lm = smf.ols(formula='Observed ~ Evapotranspiration + Precipitation ', data=hydro_data).fit()\n",
    "\n",
    "# print the coefficients\n",
    "#display(lm.params)\n",
    "\n",
    "# print a summary of \n",
    "display(lm.summary())\n",
    "#display(lm.pvalues)"
   ]
  },
  {
   "cell_type": "code",
   "execution_count": null,
   "metadata": {},
   "outputs": [],
   "source": [
    "import statsmodels.formula.api as smf\n",
    "# create a fitted model with all three features\n",
    "lm = smf.ols(formula='Observed ~ Irrigation_pumping + Precipitation + Evapotranspiration + d_1 + d_2 + d_3 + d_4 + d_5 + d_6 + d_7 + d_8 + d_9 + d_10 + d_11 + d_12', data=hydro_data).fit()\n",
    "\n",
    "# print the coefficients\n",
    "display(lm.params)\n",
    "\n",
    "# print a summary of \n",
    "lm.summary()\n",
    "#lm.pvalues"
   ]
  },
  {
   "cell_type": "code",
   "execution_count": null,
   "metadata": {},
   "outputs": [],
   "source": [
    "import statsmodels.formula.api as smf\n",
    "# create a fitted model with all three features\n",
    "lm = smf.ols(formula='Observed ~ Irrigation_pumping + Precipitation + Evapotranspiration + s_188 + s_194 + s_205 + s_239 + s_256', data=hydro_data).fit()\n",
    "\n",
    "# print the coefficients\n",
    "display(lm.params)\n",
    "\n",
    "# print a summary of \n",
    "lm.summary()\n",
    "#lm.pvalues"
   ]
  },
  {
   "cell_type": "code",
   "execution_count": null,
   "metadata": {},
   "outputs": [],
   "source": [
    "import statsmodels.formula.api as smf\n",
    "# create a fitted model with all three features\n",
    "lm = smf.ols(formula='Observed ~ Irrigation_pumping + Precipitation + Evapotranspiration + s_188 + s_194 + s_205 + s_239 + s_256 + d_1 + d_2 + d_3 + d_4 + d_5 + d_6 + d_7 + d_8 + d_9 + d_10 + d_11 + d_12', data=hydro_data).fit()\n",
    "\n",
    "# print the coefficients\n",
    "display(lm.params)\n",
    "\n",
    "# print a summary of \n",
    "lm.summary()\n",
    "#lm.pvalues"
   ]
  },
  {
   "cell_type": "code",
   "execution_count": null,
   "metadata": {},
   "outputs": [],
   "source": [
    "# follow the usual sklearn pattern: import, instantiate, fit\n",
    "from sklearn.linear_model import LinearRegression\n",
    "from sklearn.model_selection import train_test_split, cross_val_score\n",
    "feature_cols =['Irrigation_pumping', 'Precipitation','Evapotranspiration', 's_188', 's_194', 's_205', 's_239', 's_256', 'd_1', 'd_2', 'd_3', 'd_4','d_5', 'd_6', 'd_7', 'd_8', 'd_9', 'd_10', 'd_11', 'd_12']\n",
    "X = hydro_data[feature_cols]\n",
    "y = hydro_data.Observed\n",
    "X_train, X_test, y_train, y_test = train_test_split(X, y, test_size=0.2, random_state=42)\n",
    "lm = LinearRegression()\n",
    "lm.fit(X_train, y_train)\n",
    "\n",
    "# print intercept and coefficients\n",
    "print(lm.intercept_)\n",
    "print(lm.coef_)\n",
    "print(lm.score(X_train, y_train))\n",
    "print(lm.score(X_test, y_test))"
   ]
  }
 ],
 "metadata": {
  "colab": {
   "provenance": []
  },
  "kernelspec": {
   "display_name": "Python 3 (ipykernel)",
   "language": "python",
   "name": "python3"
  },
  "language_info": {
   "codemirror_mode": {
    "name": "ipython",
    "version": 3
   },
   "file_extension": ".py",
   "mimetype": "text/x-python",
   "name": "python",
   "nbconvert_exporter": "python",
   "pygments_lexer": "ipython3",
   "version": "3.10.4"
  }
 },
 "nbformat": 4,
 "nbformat_minor": 1
}
